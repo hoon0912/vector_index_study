{
 "cells": [
  {
   "cell_type": "markdown",
   "id": "cfe4929a-7a32-4bfe-9c0e-b130306850e7",
   "metadata": {},
   "source": [
    "### 셋업"
   ]
  },
  {
   "cell_type": "code",
   "execution_count": 13,
   "id": "a967ba2c-e134-46e2-8127-86ac973c3fea",
   "metadata": {},
   "outputs": [
    {
     "name": "stderr",
     "output_type": "stream",
     "text": [
      "[nltk_data] Downloading package stopwords to\n",
      "[nltk_data]     /Users/al02524278/nltk_data...\n",
      "[nltk_data]   Package stopwords is already up-to-date!\n",
      "[nltk_data] Downloading package punkt_tab to\n",
      "[nltk_data]     /Users/al02524278/nltk_data...\n",
      "[nltk_data]   Package punkt_tab is already up-to-date!\n",
      "[nltk_data] Downloading package wordnet to\n",
      "[nltk_data]     /Users/al02524278/nltk_data...\n",
      "[nltk_data]   Package wordnet is already up-to-date!\n"
     ]
    },
    {
     "data": {
      "text/plain": [
       "True"
      ]
     },
     "execution_count": 13,
     "metadata": {},
     "output_type": "execute_result"
    }
   ],
   "source": [
    "import nltk\n",
    "nltk.download('stopwords')\n",
    "nltk.download('punkt_tab')\n",
    "nltk.download('wordnet')"
   ]
  },
  {
   "cell_type": "markdown",
   "id": "02b3c2d5-cdad-46b1-8220-e9686dced603",
   "metadata": {},
   "source": [
    "### 텍스트 전처리"
   ]
  },
  {
   "cell_type": "code",
   "execution_count": 14,
   "id": "1003cb7f-c4ff-4de2-8fea-7e3bbe12fc09",
   "metadata": {},
   "outputs": [],
   "source": [
    "text = \"Nvidia's Huang says nuclear power an option to feed data warehouse\""
   ]
  },
  {
   "cell_type": "code",
   "execution_count": 15,
   "id": "425f2ebc-6382-4ea9-9685-061d2824c6f5",
   "metadata": {},
   "outputs": [
    {
     "data": {
      "text/plain": [
       "[\"Nvidia's\",\n",
       " 'Huang',\n",
       " 'says',\n",
       " 'nuclear',\n",
       " 'power',\n",
       " 'an',\n",
       " 'option',\n",
       " 'to',\n",
       " 'feed',\n",
       " 'data',\n",
       " 'warehouse']"
      ]
     },
     "execution_count": 15,
     "metadata": {},
     "output_type": "execute_result"
    }
   ],
   "source": [
    "tokens = text.split()\n",
    "tokens"
   ]
  },
  {
   "cell_type": "code",
   "execution_count": 16,
   "id": "380f8037-69c6-414b-95f5-3daee99efa7c",
   "metadata": {},
   "outputs": [
    {
     "data": {
      "text/plain": [
       "['Nvidia',\n",
       " \"'s\",\n",
       " 'Huang',\n",
       " 'says',\n",
       " 'nuclear',\n",
       " 'power',\n",
       " 'an',\n",
       " 'option',\n",
       " 'to',\n",
       " 'feed',\n",
       " 'data',\n",
       " 'warehouse']"
      ]
     },
     "execution_count": 16,
     "metadata": {},
     "output_type": "execute_result"
    }
   ],
   "source": [
    "# NLTK 이용 토큰화\n",
    "from nltk.tokenize import word_tokenize\n",
    "word_tokens = word_tokenize(text)\n",
    "word_tokens"
   ]
  },
  {
   "cell_type": "code",
   "execution_count": 17,
   "id": "36624b6f-d059-4ad6-a6a8-8d4b03c913e7",
   "metadata": {},
   "outputs": [
    {
     "data": {
      "text/plain": [
       "['Nvidia',\n",
       " \"'s\",\n",
       " 'Huang',\n",
       " 'says',\n",
       " 'nuclear',\n",
       " 'power',\n",
       " 'option',\n",
       " 'feed',\n",
       " 'data',\n",
       " 'warehouse']"
      ]
     },
     "execution_count": 17,
     "metadata": {},
     "output_type": "execute_result"
    }
   ],
   "source": [
    "# 불용어 필터링\n",
    "from nltk.corpus import stopwords\n",
    "stop_words = set(stopwords.words('english'))\n",
    "filtered_words = [w for w in word_tokens if not w.lower() in stop_words]\n",
    "filtered_words"
   ]
  },
  {
   "cell_type": "code",
   "execution_count": 18,
   "id": "ecd51e54-f456-4b57-b8a0-983b1b1603aa",
   "metadata": {},
   "outputs": [
    {
     "data": {
      "text/plain": [
       "['nvidia',\n",
       " \"'s\",\n",
       " 'huang',\n",
       " 'say',\n",
       " 'nuclear',\n",
       " 'power',\n",
       " 'option',\n",
       " 'feed',\n",
       " 'data',\n",
       " 'warehous']"
      ]
     },
     "execution_count": 18,
     "metadata": {},
     "output_type": "execute_result"
    }
   ],
   "source": [
    "# 어간 추출\n",
    "from nltk.stem import PorterStemmer\n",
    "stemmer = PorterStemmer()\n",
    "stemmed_words = [stemmer.stem(word) for word in filtered_words]\n",
    "stemmed_words"
   ]
  },
  {
   "cell_type": "code",
   "execution_count": 19,
   "id": "05e4f13b-dad5-4952-8cc2-3ebef8cba56f",
   "metadata": {},
   "outputs": [
    {
     "data": {
      "text/plain": [
       "['Nvidia',\n",
       " \"'s\",\n",
       " 'Huang',\n",
       " 'say',\n",
       " 'nuclear',\n",
       " 'power',\n",
       " 'option',\n",
       " 'feed',\n",
       " 'data',\n",
       " 'warehouse']"
      ]
     },
     "execution_count": 19,
     "metadata": {},
     "output_type": "execute_result"
    }
   ],
   "source": [
    "# 기본형 추출\n",
    "from nltk.stem import WordNetLemmatizer\n",
    "lemmatizer = WordNetLemmatizer()\n",
    "lemmatized_words = [lemmatizer.lemmatize(word) for word in filtered_words]\n",
    "lemmatized_words"
   ]
  },
  {
   "cell_type": "markdown",
   "id": "d519f020-d968-40ba-a6ec-4f5a98b56f95",
   "metadata": {},
   "source": [
    "### Batch Index Pipeline"
   ]
  },
  {
   "cell_type": "markdown",
   "id": "bf7b45aa-818b-44d3-beba-7f7e94592654",
   "metadata": {},
   "source": [
    "### 셋업"
   ]
  },
  {
   "cell_type": "code",
   "execution_count": 20,
   "id": "0d7eebb6-b7bb-4843-8041-9cd0b1d9a27b",
   "metadata": {},
   "outputs": [],
   "source": [
    "# Skip if you already have Java\n",
    "\n",
    "# # Install Homebrew\n",
    "# /bin/bash -c \"$(curl -fsSL https://raw.githubusercontent.com/Homebrew/install/HEAD/install.sh)\"\n",
    "\n",
    "# # Install OpenJDK\n",
    "# brew install openjdk@17\n",
    "\n",
    "# # set JAVA_HOME in zshrc\n",
    "# export JAVA_HOME=$(/usr/libexec/java_home -v17)\n",
    "# export PATH=$JAVA_HOME/bin:$PATH"
   ]
  },
  {
   "cell_type": "code",
   "execution_count": 21,
   "id": "a1d21694-2332-4b7c-891d-05d97b4bf88e",
   "metadata": {},
   "outputs": [],
   "source": [
    "# Skip if you already have Spark\n",
    "\n",
    "# # Download and install Spark\n",
    "# ! curl -O https://dlcdn.apache.org/spark/spark-3.4.3/spark-3.4.3-bin-hadoop3.tgz\n",
    "# ! tar -xzf spark-3.4.3-bin-hadoop3.tgz\n",
    "# # Move to /opt folder\n",
    "# ! sudo mv spark-3.4.3-bin-hadoop3 /opt/spark-3.4.3\n",
    "# cp /opt/spark-3.4.3/conf/spark-defaults.conf.template /opt/spark-3.4.3/conf/spark-defaults.conf\n",
    "# echo 'spark.driver.extraJavaOptions   -Djava.security.manager=allow' >> /opt/spark-3.4.3/conf/spark-defaults.conf\n",
    "# echo 'spark.executor.extraJavaOptions   -Djava.security.manager=allow' >> /opt/spark-3.4.3/conf/spark-defaults.conf\n",
    "# # Create symlink\n",
    "# ! sudo ln -s /opt/spark-3.4.3 /opt/spark\n",
    "\n",
    "# # set SPARK_HOME in .zshrc\n",
    "# export SPARK_HOME=/opt/spark\n",
    "# export PATH=$SPARK_HOME/bin:$PATH\n",
    "\n",
    "# # Jupyter Notebook Spark integration\n",
    "# export PYSPARK_PYTHON=$(brew --prefix python)/libexec/bin/python\n",
    "# export PYSPARK_DRIVER_PYTHON='jupyter'\n",
    "# export PYSPARK_DRIVER_PYTHON_OPTS='notebook --no-browser --port=8889'\n",
    "# # Download elastic-spark jar from https://central.sonatype.com/artifact/org.elasticsearch/elasticsearch-spark-30_2.12/versions\n",
    "# export PYSPARK_SUBMIT_ARGS='--jars /opt/spark-3.4.3/jars/elasticsearch-spark-30_2.12-8.15.0.jar pyspark-shell'"
   ]
  },
  {
   "cell_type": "code",
   "execution_count": 22,
   "id": "a47dde69-64c9-4566-8fa1-e4f9d22af3e1",
   "metadata": {},
   "outputs": [],
   "source": [
    "# Skip if you already have Elasticsearch\n",
    "\n",
    "# Download Docker from https://docs.docker.com/engine/install/\n",
    "\n",
    "# # pull docker images\n",
    "# docker pull docker.elastic.co/elasticsearch/elasticsearch:8.15.0\n",
    "# docker pull docker.elastic.co/kibana/kibana:8.15.0\n",
    "\n",
    "# # start Elasticsearch and Kibana containers\n",
    "# docker network create elastic\n",
    "# docker run -d --name elasticsearch --net elastic -p 9200:9200 -p 9300:9300 -m 1GB -e \"discovery.type=single-node\" -e \"ELASTIC_PASSWORD=password\" -e \"xpack.security.enabled=false\" -e \"xpack.security.enrollment.enabled=false\" docker.elastic.co/elasticsearch/elasticsearch:8.15.0\n",
    "# docker run -d --name kibana --net elastic -p 5601:5601 docker.elastic.co/kibana/kibana:8.15.0"
   ]
  },
  {
   "cell_type": "code",
   "execution_count": 1,
   "id": "2d319687-24c5-4852-ba92-512ade3eb93d",
   "metadata": {},
   "outputs": [
    {
     "name": "stderr",
     "output_type": "stream",
     "text": [
      "Setting default log level to \"WARN\".\n",
      "To adjust logging level use sc.setLogLevel(newLevel). For SparkR, use setLogLevel(newLevel).\n",
      "24/10/09 23:01:18 WARN NativeCodeLoader: Unable to load native-hadoop library for your platform... using builtin-java classes where applicable\n",
      "24/10/09 23:01:19 WARN Utils: Service 'SparkUI' could not bind on port 4040. Attempting port 4041.\n"
     ]
    },
    {
     "name": "stdout",
     "output_type": "stream",
     "text": [
      "+--------------------+--------------------+-------------------+--------------------+--------------------+-----+\n",
      "|                 _c0|                 _c1|                _c2|                 _c3|                 _c4|  _c5|\n",
      "+--------------------+--------------------+-------------------+--------------------+--------------------+-----+\n",
      "|          COMMENT_ID|              AUTHOR|               DATE|             CONTENT|          VIDEO_NAME|CLASS|\n",
      "|LZQPQhLyRh80UYxNu...|           Julius NM|2013-11-07T06:20:48|Huh, anyway check...|PSY - GANGNAM STY...|    1|\n",
      "|LZQPQhLyRh_C2cTtd...|         adam riyati|2013-11-07T12:37:15|Hey guys check ou...|PSY - GANGNAM STY...|    1|\n",
      "|LZQPQhLyRh9MSZYnf...|    Evgeny Murashkin|2013-11-08T17:34:21|just for test I h...|PSY - GANGNAM STY...|    1|\n",
      "|z13jhp0bxqncu512g...|     ElNino Melendez|2013-11-09T08:28:43|me shaking my sex...|PSY - GANGNAM STY...|    1|\n",
      "|z13fwbwp1oujthgqj...|              GsMega|2013-11-10T16:05:38|watch?v=vtaRGgvGt...|PSY - GANGNAM STY...|    1|\n",
      "|LZQPQhLyRh9-wNRtl...|        Jason Haddad|2013-11-26T02:55:11|Hey, check out my...|PSY - GANGNAM STY...|    1|\n",
      "|z13lfzdo5vmdi1cm1...|      ferleck ferles|2013-11-27T21:39:24|Subscribe to my c...|PSY - GANGNAM STY...|    1|\n",
      "|z122wfnzgt30fhubn...|        Bob Kanowski|2013-11-28T12:33:27|i turned it on mu...|PSY - GANGNAM STY...|    0|\n",
      "|z13ttt1jcraqexk2o...|                Cony|2013-11-28T16:01:47|You should check ...|PSY - GANGNAM STY...|    1|\n",
      "|z12avveb4xqiirsix...|         BeBe Burkey|2013-11-28T16:30:13|and u should.d ch...|PSY - GANGNAM STY...|    1|\n",
      "|z13auhww3oufjn1qo...|           Huckyduck|2013-11-28T17:06:17|Hey subscribe to me﻿|PSY - GANGNAM STY...|    1|\n",
      "|z13xit5agm2zyh4f5...|         Lone Twistt|2013-11-28T17:34:55| Once you have st...|PSY - GANGNAM STY...|    1|\n",
      "|z13pejoiuozwxtdu3...|        Archie Lewis|2013-11-28T17:54:39|https://twitter.c...|PSY - GANGNAM STY...|    1|\n",
      "|z121zxaxsq25z5k5o...|     TheUploadaddict|2013-11-28T18:12:12|subscribe like co...|PSY - GANGNAM STY...|    1|\n",
      "|z12oglnpoq3gjh4om...|      Francisco Nora|2013-11-28T19:52:35|please like :D ht...|PSY - GANGNAM STY...|    1|\n",
      "|z13phrmwrkfisn5er...|Gaming and Stuff PRO|2013-11-28T21:14:13|Hello! Do you lik...|PSY - GANGNAM STY...|    1|\n",
      "|z13bgdvyluihfv11i...|         Zielimeek21|2013-11-28T21:49:00|I'm only checking...|PSY - GANGNAM STY...|    0|\n",
      "|z13vxpnoxsyeuv2jr...|      OutrightIgnite|2013-11-28T21:55:02|http://www.ebay.c...|PSY - GANGNAM STY...|    1|\n",
      "|z12qth5j0ob1fx3q4...|      Tony K Frazier|2013-11-28T23:57:13|http://ubuntuone....|PSY - GANGNAM STY...|    1|\n",
      "+--------------------+--------------------+-------------------+--------------------+--------------------+-----+\n",
      "only showing top 20 rows\n",
      "\n"
     ]
    }
   ],
   "source": [
    "import pyspark\n",
    "from pyspark.sql import SparkSession\n",
    "\n",
    "conf = pyspark.SparkConf()\n",
    "spark = SparkSession.builder.appName(\"indexer\").config(conf=conf).getOrCreate()\n",
    "\n",
    "# Dataset: https://www.kaggle.com/datasets/ahsenwaheed/youtube-comments-spam-dataset?resource=download\n",
    "path = \"Youtube-Spam-Dataset.csv\"\n",
    "\n",
    "df = spark.read.csv(path)\n",
    "df.show()"
   ]
  },
  {
   "cell_type": "code",
   "execution_count": 2,
   "id": "428d09ef-c90f-4016-ad06-4b1d2744eb8b",
   "metadata": {},
   "outputs": [
    {
     "name": "stdout",
     "output_type": "stream",
     "text": [
      "+--------------------+--------------------+-------------------+--------------------+--------------------+---+\n",
      "|                 _c0|                 _c1|                _c2|                 _c3|                 _c4|_c5|\n",
      "+--------------------+--------------------+-------------------+--------------------+--------------------+---+\n",
      "|LZQPQhLyRh80UYxNu...|           Julius NM|2013-11-07T06:20:48|Huh, anyway check...|PSY - GANGNAM STY...|  1|\n",
      "|LZQPQhLyRh_C2cTtd...|         adam riyati|2013-11-07T12:37:15|Hey guys check ou...|PSY - GANGNAM STY...|  1|\n",
      "|LZQPQhLyRh9MSZYnf...|    Evgeny Murashkin|2013-11-08T17:34:21|just for test I h...|PSY - GANGNAM STY...|  1|\n",
      "|z13jhp0bxqncu512g...|     ElNino Melendez|2013-11-09T08:28:43|me shaking my sex...|PSY - GANGNAM STY...|  1|\n",
      "|z13fwbwp1oujthgqj...|              GsMega|2013-11-10T16:05:38|watch?v=vtaRGgvGt...|PSY - GANGNAM STY...|  1|\n",
      "|LZQPQhLyRh9-wNRtl...|        Jason Haddad|2013-11-26T02:55:11|Hey, check out my...|PSY - GANGNAM STY...|  1|\n",
      "|z13lfzdo5vmdi1cm1...|      ferleck ferles|2013-11-27T21:39:24|Subscribe to my c...|PSY - GANGNAM STY...|  1|\n",
      "|z122wfnzgt30fhubn...|        Bob Kanowski|2013-11-28T12:33:27|i turned it on mu...|PSY - GANGNAM STY...|  0|\n",
      "|z13ttt1jcraqexk2o...|                Cony|2013-11-28T16:01:47|You should check ...|PSY - GANGNAM STY...|  1|\n",
      "|z12avveb4xqiirsix...|         BeBe Burkey|2013-11-28T16:30:13|and u should.d ch...|PSY - GANGNAM STY...|  1|\n",
      "|z13auhww3oufjn1qo...|           Huckyduck|2013-11-28T17:06:17|Hey subscribe to me﻿|PSY - GANGNAM STY...|  1|\n",
      "|z13xit5agm2zyh4f5...|         Lone Twistt|2013-11-28T17:34:55| Once you have st...|PSY - GANGNAM STY...|  1|\n",
      "|z13pejoiuozwxtdu3...|        Archie Lewis|2013-11-28T17:54:39|https://twitter.c...|PSY - GANGNAM STY...|  1|\n",
      "|z121zxaxsq25z5k5o...|     TheUploadaddict|2013-11-28T18:12:12|subscribe like co...|PSY - GANGNAM STY...|  1|\n",
      "|z12oglnpoq3gjh4om...|      Francisco Nora|2013-11-28T19:52:35|please like :D ht...|PSY - GANGNAM STY...|  1|\n",
      "|z13phrmwrkfisn5er...|Gaming and Stuff PRO|2013-11-28T21:14:13|Hello! Do you lik...|PSY - GANGNAM STY...|  1|\n",
      "|z13bgdvyluihfv11i...|         Zielimeek21|2013-11-28T21:49:00|I'm only checking...|PSY - GANGNAM STY...|  0|\n",
      "|z13vxpnoxsyeuv2jr...|      OutrightIgnite|2013-11-28T21:55:02|http://www.ebay.c...|PSY - GANGNAM STY...|  1|\n",
      "|z12qth5j0ob1fx3q4...|      Tony K Frazier|2013-11-28T23:57:13|http://ubuntuone....|PSY - GANGNAM STY...|  1|\n",
      "|z13etj0bclzfztuwc...|       Jose Renteria|2013-11-29T00:22:01|We are an EDM app...|PSY - GANGNAM STY...|  1|\n",
      "+--------------------+--------------------+-------------------+--------------------+--------------------+---+\n",
      "only showing top 20 rows\n",
      "\n"
     ]
    }
   ],
   "source": [
    "columns = df.columns\n",
    "new_df = df.filter(df._c0 != 'COMMENT_ID')\n",
    "new_df.show()"
   ]
  },
  {
   "cell_type": "code",
   "execution_count": 3,
   "id": "07518291-b6a4-40a2-a3cd-efc61af5d022",
   "metadata": {},
   "outputs": [
    {
     "name": "stdout",
     "output_type": "stream",
     "text": [
      "+--------------------+--------------------+-------------------+--------------------+--------------------+-----+\n",
      "|          COMMENT_ID|              AUTHOR|               DATE|             CONTENT|          VIDEO_NAME|CLASS|\n",
      "+--------------------+--------------------+-------------------+--------------------+--------------------+-----+\n",
      "|LZQPQhLyRh80UYxNu...|           Julius NM|2013-11-07T06:20:48|Huh, anyway check...|PSY - GANGNAM STY...|    1|\n",
      "|LZQPQhLyRh_C2cTtd...|         adam riyati|2013-11-07T12:37:15|Hey guys check ou...|PSY - GANGNAM STY...|    1|\n",
      "|LZQPQhLyRh9MSZYnf...|    Evgeny Murashkin|2013-11-08T17:34:21|just for test I h...|PSY - GANGNAM STY...|    1|\n",
      "|z13jhp0bxqncu512g...|     ElNino Melendez|2013-11-09T08:28:43|me shaking my sex...|PSY - GANGNAM STY...|    1|\n",
      "|z13fwbwp1oujthgqj...|              GsMega|2013-11-10T16:05:38|watch?v=vtaRGgvGt...|PSY - GANGNAM STY...|    1|\n",
      "|LZQPQhLyRh9-wNRtl...|        Jason Haddad|2013-11-26T02:55:11|Hey, check out my...|PSY - GANGNAM STY...|    1|\n",
      "|z13lfzdo5vmdi1cm1...|      ferleck ferles|2013-11-27T21:39:24|Subscribe to my c...|PSY - GANGNAM STY...|    1|\n",
      "|z122wfnzgt30fhubn...|        Bob Kanowski|2013-11-28T12:33:27|i turned it on mu...|PSY - GANGNAM STY...|    0|\n",
      "|z13ttt1jcraqexk2o...|                Cony|2013-11-28T16:01:47|You should check ...|PSY - GANGNAM STY...|    1|\n",
      "|z12avveb4xqiirsix...|         BeBe Burkey|2013-11-28T16:30:13|and u should.d ch...|PSY - GANGNAM STY...|    1|\n",
      "|z13auhww3oufjn1qo...|           Huckyduck|2013-11-28T17:06:17|Hey subscribe to me﻿|PSY - GANGNAM STY...|    1|\n",
      "|z13xit5agm2zyh4f5...|         Lone Twistt|2013-11-28T17:34:55| Once you have st...|PSY - GANGNAM STY...|    1|\n",
      "|z13pejoiuozwxtdu3...|        Archie Lewis|2013-11-28T17:54:39|https://twitter.c...|PSY - GANGNAM STY...|    1|\n",
      "|z121zxaxsq25z5k5o...|     TheUploadaddict|2013-11-28T18:12:12|subscribe like co...|PSY - GANGNAM STY...|    1|\n",
      "|z12oglnpoq3gjh4om...|      Francisco Nora|2013-11-28T19:52:35|please like :D ht...|PSY - GANGNAM STY...|    1|\n",
      "|z13phrmwrkfisn5er...|Gaming and Stuff PRO|2013-11-28T21:14:13|Hello! Do you lik...|PSY - GANGNAM STY...|    1|\n",
      "|z13bgdvyluihfv11i...|         Zielimeek21|2013-11-28T21:49:00|I'm only checking...|PSY - GANGNAM STY...|    0|\n",
      "|z13vxpnoxsyeuv2jr...|      OutrightIgnite|2013-11-28T21:55:02|http://www.ebay.c...|PSY - GANGNAM STY...|    1|\n",
      "|z12qth5j0ob1fx3q4...|      Tony K Frazier|2013-11-28T23:57:13|http://ubuntuone....|PSY - GANGNAM STY...|    1|\n",
      "|z13etj0bclzfztuwc...|       Jose Renteria|2013-11-29T00:22:01|We are an EDM app...|PSY - GANGNAM STY...|    1|\n",
      "+--------------------+--------------------+-------------------+--------------------+--------------------+-----+\n",
      "only showing top 20 rows\n",
      "\n"
     ]
    }
   ],
   "source": [
    "df_schema = df.schema\n",
    "\n",
    "new_columns = []\n",
    "for i in df.limit(1).collect()[0]:\n",
    "  new_columns.append(i)\n",
    "\n",
    "for i,k in enumerate(df_schema.fields):\n",
    "  k.name = new_columns[i]\n",
    "\n",
    "# Apply the schema to the original dataframe\n",
    "new_df = spark.createDataFrame(new_df.rdd, df_schema)\n",
    "new_df.show()"
   ]
  },
  {
   "cell_type": "code",
   "execution_count": 4,
   "id": "fc9c97e0-5302-492f-a40b-51bafbc51bb3",
   "metadata": {},
   "outputs": [
    {
     "name": "stderr",
     "output_type": "stream",
     "text": [
      "24/10/09 23:02:25 ERROR NetworkClient: Node [172.24.0.4:9200] failed (org.elasticsearch.hadoop.thirdparty.apache.commons.httpclient.ConnectTimeoutException: The host did not accept the connection within timeout of 60000 ms); selected next node [127.0.0.1:9200]\n",
      "                                                                                \r"
     ]
    }
   ],
   "source": [
    "# Write the DataFrame to an Elasticsearch index\n",
    "es_conf = {\n",
    "    \"es.nodes.discovery\": \"false\",\n",
    "    \"es.nodes.data.only\": \"false\",\n",
    "    \"es.net.http.auth.user\": \"elastic\",\n",
    "    \"es.net.http.auth.pass\": \"password\",\n",
    "    \"es.index.auto.create\": \"true\",\n",
    "    \"es.nodes\": \"http://127.0.0.1\",\n",
    "    \"es.port\": \"9200\",\n",
    "    \"es.mapping.id\": \"COMMENT_ID\",\n",
    "}\n",
    "\n",
    "new_df.write.mode(\"append\") \\\n",
    "        .format('org.elasticsearch.spark.sql') \\\n",
    "        .options(**es_conf) \\\n",
    "        .save(\"youtube\")"
   ]
  },
  {
   "cell_type": "code",
   "execution_count": null,
   "id": "ee0d6625-4884-4777-b84e-b56c208b5ab9",
   "metadata": {},
   "outputs": [],
   "source": []
  }
 ],
 "metadata": {
  "kernelspec": {
   "display_name": "venv-Python-3.12",
   "language": "python",
   "name": "venv-python-3.12"
  },
  "language_info": {
   "codemirror_mode": {
    "name": "ipython",
    "version": 3
   },
   "file_extension": ".py",
   "mimetype": "text/x-python",
   "name": "python",
   "nbconvert_exporter": "python",
   "pygments_lexer": "ipython3",
   "version": "3.12.7"
  }
 },
 "nbformat": 4,
 "nbformat_minor": 5
}
